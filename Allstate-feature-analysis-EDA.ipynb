﻿{
 "metadata": {
  "kernelspec": {
   "name": "python"
  },
  "language_info": {
   "name": "python",
   "version": "3.5.1"
  }
 },
 "nbformat": 4,
 "nbformat_minor": 0,
 "cells": [
  {
   "cell_type": "markdown",
   "source": "**This is my first kernel submission on kaggle. I got the motivation from other EDA notebooks for this competition.**",
   "metadata": {}
  },
  {
   "cell_type": "code",
   "source": "import warnings\nwarnings.filterwarnings('ignore')\n\nimport pandas as pd\nimport numpy as np",
   "execution_count": 0,
   "outputs": [],
   "metadata": {}
  },
  {
   "cell_type": "code",
   "source": "train_data = pd.read_csv(\"../input/train.csv\")\ntest_data = pd.read_csv(\"../input/test.csv\")",
   "execution_count": 0,
   "outputs": [],
   "metadata": {}
  },
  {
   "cell_type": "code",
   "source": "print(\"Train data dimensions: \", train_data.shape)\nprint(\"Test data dimensions: \", test_data.shape)",
   "execution_count": 0,
   "outputs": [],
   "metadata": {}
  },
  {
   "cell_type": "code",
   "source": "train_data.head()",
   "execution_count": 0,
   "outputs": [],
   "metadata": {}
  },
  {
   "cell_type": "code",
   "source": "print(\"Number of missing values\",train_data.isnull().sum().sum())",
   "execution_count": 0,
   "outputs": [],
   "metadata": {}
  },
  {
   "cell_type": "markdown",
   "source": "This is a good news as there are not missing values :)",
   "metadata": {}
  },
  {
   "cell_type": "markdown",
   "source": "**Lets analyze the distribution of continuous features:**",
   "metadata": {}
  },
  {
   "cell_type": "code",
   "source": "train_data.describe()",
   "execution_count": 0,
   "outputs": [],
   "metadata": {}
  },
  {
   "cell_type": "code",
   "source": "contFeatureslist = []\nfor colName,x in train_data.iloc[1,:].iteritems():\n    #print(x)\n    if(not str(x).isalpha()):\n        contFeatureslist.append(colName)",
   "execution_count": 0,
   "outputs": [],
   "metadata": {}
  },
  {
   "cell_type": "code",
   "source": "print(contFeatureslist)",
   "execution_count": 0,
   "outputs": [],
   "metadata": {}
  },
  {
   "cell_type": "code",
   "source": "contFeatureslist.remove(\"id\")\ncontFeatureslist.remove(\"loss\")",
   "execution_count": 0,
   "outputs": [],
   "metadata": {}
  },
  {
   "cell_type": "markdown",
   "source": "### Box plots for continuous features",
   "metadata": {}
  },
  {
   "cell_type": "code",
   "source": "import matplotlib.pyplot as plt\nimport seaborn as sns\n%matplotlib inline",
   "execution_count": 0,
   "outputs": [],
   "metadata": {}
  },
  {
   "cell_type": "code",
   "source": "plt.figure(figsize=(13,9))\nsns.boxplot(train_data[contFeatureslist])",
   "execution_count": 0,
   "outputs": [],
   "metadata": {}
  },
  {
   "cell_type": "markdown",
   "source": "As we  can see, some of the features like cont13, cont14 etc. are highly skewed. we might need to normalize these features before running any algorithms",
   "metadata": {}
  },
  {
   "cell_type": "markdown",
   "source": "### Correlation between continuous features",
   "metadata": {}
  },
  {
   "cell_type": "code",
   "source": "# Include  target variable also to find correlation between features and target feature as well\ncontFeatureslist.append(\"loss\")",
   "execution_count": 0,
   "outputs": [],
   "metadata": {}
  },
  {
   "cell_type": "code",
   "source": "correlationMatrix = train_data[contFeatureslist].corr().abs()\n\nplt.subplots(figsize=(13, 9))\nsns.heatmap(correlationMatrix,annot=True)\n\n# Mask unimportant features\nsns.heatmap(correlationMatrix, mask=correlationMatrix < 1, cbar=False)\nplt.show()",
   "execution_count": 0,
   "outputs": [],
   "metadata": {}
  },
  {
   "cell_type": "markdown",
   "source": "### Analysis of loss feature",
   "metadata": {}
  },
  {
   "cell_type": "code",
   "source": "plt.figure(figsize=(13,9))\nsns.distplot(train_data[\"loss\"])\nsns.boxplot(train_data[\"loss\"])",
   "execution_count": 0,
   "outputs": [],
   "metadata": {}
  },
  {
   "cell_type": "markdown",
   "source": "Here, we can see loss is highly right skewed data. This happened because there are many outliers in the data that we ca see from box plot. Lets apply log to see if we can get normal distribution",
   "metadata": {}
  },
  {
   "cell_type": "code",
   "source": "plt.figure(figsize=(13,9))\nsns.distplot(np.log1p(train_data[\"loss\"]))",
   "execution_count": 0,
   "outputs": [],
   "metadata": {}
  },
  {
   "cell_type": "markdown",
   "source": "So we got normal distribution by applying logarithm on loss function",
   "metadata": {}
  },
  {
   "cell_type": "markdown",
   "source": "Bang. Finally we got normal distribution, so we can train model using target feature as log of loss. This way we don't have to remove outliers.",
   "metadata": {}
  },
  {
   "cell_type": "code",
   "source": "catCount = sum(str(x).isalpha() for x in train_data.iloc[1,:])\nprint(\"Number of categories: \",catCount)",
   "execution_count": 0,
   "outputs": [],
   "metadata": {}
  },
  {
   "cell_type": "markdown",
   "source": "There are 116 categories with non alphanumeric values, most of the machine learning algorithms doesn't work with alpha numeric values. So, lets convert it into numeric values",
   "metadata": {}
  },
  {
   "cell_type": "code",
   "source": "catFeatureslist = []\nfor colName,x in train_data.iloc[1,:].iteritems():\n    if(str(x).isalpha()):\n        catFeatureslist.append(colName)",
   "execution_count": 0,
   "outputs": [],
   "metadata": {}
  },
  {
   "cell_type": "markdown",
   "source": "**Unique categorical values per each category**",
   "metadata": {}
  },
  {
   "cell_type": "code",
   "source": "print(train_data[catFeatureslist].apply(pd.Series.nunique))",
   "execution_count": 0,
   "outputs": [],
   "metadata": {}
  },
  {
   "cell_type": "markdown",
   "source": "### Convert categorical string values to numeric values",
   "metadata": {}
  },
  {
   "cell_type": "code",
   "source": "from sklearn.preprocessing import LabelEncoder",
   "execution_count": 0,
   "outputs": [],
   "metadata": {}
  },
  {
   "cell_type": "code",
   "source": "for cf1 in catFeatureslist:\n    le = LabelEncoder()\n    le.fit(train_data[cf1].unique())\n    train_data[cf1] = le.transform(train_data[cf1])",
   "execution_count": 0,
   "outputs": [],
   "metadata": {}
  },
  {
   "cell_type": "code",
   "source": "train_data.head(5)",
   "execution_count": 0,
   "outputs": [],
   "metadata": {}
  },
  {
   "cell_type": "code",
   "source": "sum(train_data[catFeatureslist].apply(pd.Series.nunique) > 2)",
   "execution_count": 0,
   "outputs": [],
   "metadata": {}
  },
  {
   "cell_type": "markdown",
   "source": "### Analysis of categorical features with levels between 5-10",
   "metadata": {}
  },
  {
   "cell_type": "code",
   "source": "filterG5_10 = list((train_data[catFeatureslist].apply(pd.Series.nunique) > 5) & \n                (train_data[catFeatureslist].apply(pd.Series.nunique) < 10))",
   "execution_count": 0,
   "outputs": [],
   "metadata": {}
  },
  {
   "cell_type": "code",
   "source": "catFeaturesG5_10List = [i for (i, v) in zip(catFeatureslist, filterG5_10) if v]",
   "execution_count": 0,
   "outputs": [],
   "metadata": {}
  },
  {
   "cell_type": "code",
   "source": "len(catFeaturesG5_10List)",
   "execution_count": 0,
   "outputs": [],
   "metadata": {}
  },
  {
   "cell_type": "code",
   "source": "ncol = 2\nnrow = 4\ntry:\n    for rowIndex in range(nrow):\n        f,axList = plt.subplots(nrows=1,ncols=ncol,sharey=True,figsize=(13, 9))\n        features = catFeaturesG5_10List[rowIndex*ncol:ncol*(rowIndex+1)]\n        \n        for axIndex in range(len(axList)):\n            sns.boxplot(x=features[axIndex], y=\"loss\", data=train_data, ax=axList[axIndex])\n                        \n            # With original scale it is hard to visualize because of outliers\n            axList[axIndex].set(yscale=\"log\")\n            axList[axIndex].set(xlabel=features[axIndex], ylabel='log loss')\nexcept IndexError:\n    print(\"\")",
   "execution_count": 0,
   "outputs": [],
   "metadata": {}
  },
  {
   "cell_type": "markdown",
   "source": "### Correlation between categorical variables",
   "metadata": {}
  },
  {
   "cell_type": "code",
   "source": "filterG2 = list((train_data[catFeatureslist].apply(pd.Series.nunique) == 2))\ncatFeaturesG2List = [i for (i, v) in zip(catFeatureslist, filterG2) if v]\ncatFeaturesG2List.append(\"loss\")",
   "execution_count": 0,
   "outputs": [],
   "metadata": {}
  },
  {
   "cell_type": "code",
   "source": "corrCatMatrix = train_data[catFeaturesG2List].corr().abs()\n\ns = corrCatMatrix.unstack()\nsortedSeries= s.order(kind=\"quicksort\",ascending=False)\n\nprint(\"Top 5 most correlated categorical feature pairs: \\n\")\nprint(sortedSeries[sortedSeries != 1.0][0:9])",
   "execution_count": 0,
   "outputs": [],
   "metadata": {}
  },
  {
   "cell_type": "markdown",
   "source": "Note: We should do chi-square test on categorical features to find independence. I have done pearson correlation which is measure to find association between features",
   "metadata": {}
  },
  {
   "cell_type": "markdown",
   "source": "*Thank you. I hope this will be useful for you. Please share your comments/feedback*",
   "metadata": {}
  },
  {
   "cell_type": "markdown",
   "source": "More EDA analysis for this competition: (Thanks for the motivation)  \nhttps://www.kaggle.com/nminus1/allstate-claims-severity/allstate-eda-python  \nhttps://www.kaggle.com/dmi3kno/allstate-claims-severity/allstate-eda  ",
   "metadata": {}
  }
 ]
}