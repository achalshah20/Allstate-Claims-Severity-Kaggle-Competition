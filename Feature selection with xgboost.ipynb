{
 "cells": [
  {
   "cell_type": "code",
   "execution_count": 1,
   "metadata": {
    "collapsed": true
   },
   "outputs": [],
   "source": [
    "import pandas as pd\n",
    "import numpy as np"
   ]
  },
  {
   "cell_type": "code",
   "execution_count": 2,
   "metadata": {
    "collapsed": true
   },
   "outputs": [],
   "source": [
    "train = pd.read_csv(\"featuresets/1/train_data_cleaned.csv\",index_col=0)\n",
    "test = pd.read_csv(\"featuresets/1/test_data_cleaned.csv\",index_col=0)"
   ]
  },
  {
   "cell_type": "code",
   "execution_count": 3,
   "metadata": {
    "collapsed": true
   },
   "outputs": [],
   "source": [
    "shift = 200\n",
    "x_train = train.drop(\"loss\",axis=1)\n",
    "y = np.log(train['loss']+shift)\n",
    "x_test = test"
   ]
  },
  {
   "cell_type": "markdown",
   "metadata": {},
   "source": [
    "## XGboost"
   ]
  },
  {
   "cell_type": "code",
   "execution_count": 4,
   "metadata": {
    "collapsed": false
   },
   "outputs": [
    {
     "name": "stderr",
     "output_type": "stream",
     "text": [
      "/home/achal/.local/lib/python3.5/site-packages/sklearn/cross_validation.py:44: DeprecationWarning: This module was deprecated in version 0.18 in favor of the model_selection module into which all the refactored classes and functions are moved. Also note that the interface of the new CV iterators are different from that of this module. This module will be removed in 0.20.\n",
      "  \"This module will be removed in 0.20.\", DeprecationWarning)\n"
     ]
    }
   ],
   "source": [
    "import xgboost as xgb\n",
    "from sklearn.metrics import mean_absolute_error"
   ]
  },
  {
   "cell_type": "code",
   "execution_count": 10,
   "metadata": {
    "collapsed": false
   },
   "outputs": [],
   "source": [
    "RANDOM_STATE = 20\n",
    "xgb_params = {\n",
    "    'seed': 0,\n",
    "    'colsample_bytree': 0.7,\n",
    "    'silent': 1,\n",
    "    'subsample': 0.7,\n",
    "    'learning_rate': 0.070,\n",
    "    'objective': 'reg:linear',\n",
    "    'max_depth': 6,\n",
    "    'num_parallel_tree': 1,\n",
    "    'min_child_weight': 1,\n",
    "    'eval_metric': 'mae',\n",
    "    'latent' : RANDOM_STATE\n",
    "}\n",
    "\n",
    "xgtrain = xgb.DMatrix(x_train, label=y)\n",
    "xgtest = xgb.DMatrix(x_test)"
   ]
  },
  {
   "cell_type": "code",
   "execution_count": 11,
   "metadata": {
    "collapsed": true
   },
   "outputs": [],
   "source": [
    "def xg_eval_mse(yhat, dtrain):\n",
    "    y = dtrain.get_label()\n",
    "    return('mae', mean_absolute_error(np.exp(y), np.exp(yhat)-shift))"
   ]
  },
  {
   "cell_type": "code",
   "execution_count": 12,
   "metadata": {
    "collapsed": false
   },
   "outputs": [
    {
     "name": "stdout",
     "output_type": "stream",
     "text": [
      "[0]\ttrain-mae:3434.62+4.1038\ttest-mae:3434.62+16.4156\n",
      "[10]\ttrain-mae:3343.3+4.07081\ttest-mae:3343.3+16.3218\n",
      "[20]\ttrain-mae:2905.65+3.66776\ttest-mae:2905.73+15.7789\n",
      "[30]\ttrain-mae:2209.38+2.91214\ttest-mae:2210.68+14.5543\n",
      "[40]\ttrain-mae:1658.38+1.96\ttest-mae:1663.44+10.7024\n",
      "[50]\ttrain-mae:1383.73+1.90538\ttest-mae:1393.56+8.23169\n",
      "[60]\ttrain-mae:1266.81+1.46301\ttest-mae:1280.68+7.36851\n",
      "[70]\ttrain-mae:1214.65+1.60021\ttest-mae:1231.54+6.92545\n",
      "[80]\ttrain-mae:1188.32+1.47361\ttest-mae:1208.11+6.94251\n",
      "[90]\ttrain-mae:1173.41+1.57436\ttest-mae:1195.66+6.73493\n",
      "[100]\ttrain-mae:1163.63+1.69404\ttest-mae:1187.89+6.66357\n",
      "[110]\ttrain-mae:1156.78+1.68011\ttest-mae:1183.25+6.72226\n",
      "[120]\ttrain-mae:1151.18+1.65166\ttest-mae:1179.46+6.79711\n",
      "[130]\ttrain-mae:1146.85+1.59042\ttest-mae:1177.03+6.75342\n",
      "[140]\ttrain-mae:1142.7+1.43721\ttest-mae:1174.95+6.73184\n",
      "[150]\ttrain-mae:1139.21+1.28018\ttest-mae:1173.31+6.90938\n",
      "[160]\ttrain-mae:1135.92+1.3926\ttest-mae:1171.94+6.79353\n",
      "[170]\ttrain-mae:1132.79+1.57539\ttest-mae:1170.61+6.65262\n",
      "[180]\ttrain-mae:1129.94+1.46993\ttest-mae:1169.58+6.77437\n",
      "[190]\ttrain-mae:1127.12+1.42344\ttest-mae:1168.66+6.62378\n",
      "[200]\ttrain-mae:1124.8+1.41913\ttest-mae:1167.95+6.54748\n",
      "[210]\ttrain-mae:1122.29+1.31088\ttest-mae:1167.16+6.45509\n",
      "[220]\ttrain-mae:1120.03+1.25648\ttest-mae:1166.52+6.45942\n",
      "[230]\ttrain-mae:1117.72+1.26082\ttest-mae:1166.03+6.44969\n",
      "[240]\ttrain-mae:1115.6+1.31661\ttest-mae:1165.37+6.55327\n",
      "[250]\ttrain-mae:1113.41+1.48657\ttest-mae:1164.8+6.52579\n",
      "[260]\ttrain-mae:1111.45+1.56344\ttest-mae:1164.4+6.64329\n",
      "[270]\ttrain-mae:1109.51+1.38352\ttest-mae:1163.99+6.77557\n",
      "[280]\ttrain-mae:1107.55+1.36778\ttest-mae:1163.59+6.8809\n",
      "[290]\ttrain-mae:1105.58+1.44197\ttest-mae:1163.18+6.79184\n",
      "[300]\ttrain-mae:1103.64+1.33675\ttest-mae:1162.78+6.85538\n",
      "[310]\ttrain-mae:1101.72+1.27566\ttest-mae:1162.53+6.98219\n",
      "[320]\ttrain-mae:1099.95+1.32141\ttest-mae:1162.34+7.0665\n",
      "[330]\ttrain-mae:1098.27+1.31136\ttest-mae:1162.09+6.9615\n",
      "[340]\ttrain-mae:1096.54+1.23783\ttest-mae:1162.08+6.97914\n",
      "[350]\ttrain-mae:1095+1.24554\ttest-mae:1161.92+6.98523\n",
      "[360]\ttrain-mae:1093.32+1.24633\ttest-mae:1161.75+6.97477\n",
      "[370]\ttrain-mae:1091.67+1.36153\ttest-mae:1161.62+6.96812\n",
      "[380]\ttrain-mae:1090.01+1.41947\ttest-mae:1161.47+7.0191\n",
      "[390]\ttrain-mae:1088.23+1.4894\ttest-mae:1161.27+6.93064\n",
      "[400]\ttrain-mae:1086.65+1.47042\ttest-mae:1161.23+7.01085\n",
      "[410]\ttrain-mae:1084.86+1.34857\ttest-mae:1161.15+7.05705\n",
      "[420]\ttrain-mae:1083.39+1.39312\ttest-mae:1161.14+6.89805\n",
      "[430]\ttrain-mae:1081.88+1.34744\ttest-mae:1161.15+6.96484\n",
      "[440]\ttrain-mae:1080.31+1.24822\ttest-mae:1161.06+6.95106\n",
      "[450]\ttrain-mae:1078.69+1.24293\ttest-mae:1161.08+7.01316\n",
      "[460]\ttrain-mae:1077.19+1.28771\ttest-mae:1160.97+6.96347\n",
      "[470]\ttrain-mae:1075.77+1.36398\ttest-mae:1160.95+7.03126\n",
      "[480]\ttrain-mae:1074.12+1.46302\ttest-mae:1160.76+6.94405\n",
      "[490]\ttrain-mae:1072.61+1.49795\ttest-mae:1160.59+6.95023\n",
      "[500]\ttrain-mae:1071.18+1.42771\ttest-mae:1160.5+6.92633\n",
      "[510]\ttrain-mae:1069.53+1.45811\ttest-mae:1160.38+6.96363\n",
      "[520]\ttrain-mae:1068.18+1.38699\ttest-mae:1160.34+6.9169\n",
      "[530]\ttrain-mae:1066.64+1.30442\ttest-mae:1160.39+6.96623\n",
      "[540]\ttrain-mae:1065.22+1.23491\ttest-mae:1160.36+7.0645\n",
      "[550]\ttrain-mae:1063.73+1.25048\ttest-mae:1160.46+7.05098\n",
      "[560]\ttrain-mae:1062.37+1.29186\ttest-mae:1160.48+7.16696\n",
      "[570]\ttrain-mae:1061+1.14126\ttest-mae:1160.4+7.21063\n"
     ]
    }
   ],
   "source": [
    "res = xgb.cv(xgb_params, xgtrain, num_boost_round=1000, nfold=5, seed=RANDOM_STATE, stratified=False,early_stopping_rounds=50, verbose_eval=10, show_stdv=True, feval=xg_eval_mse, maximize=False)"
   ]
  },
  {
   "cell_type": "code",
   "execution_count": 13,
   "metadata": {
    "collapsed": false
   },
   "outputs": [
    {
     "name": "stdout",
     "output_type": "stream",
     "text": [
      "CV-Mean: 1160.3170164+6.918289952706379\n"
     ]
    }
   ],
   "source": [
    "best_nrounds = res.shape[0] - 1\n",
    "cv_mean = res.iloc[-1, 0]\n",
    "cv_std = res.iloc[-1, 1]\n",
    "print('CV-Mean: {0}+{1}'.format(cv_mean, cv_std))"
   ]
  },
  {
   "cell_type": "code",
   "execution_count": 15,
   "metadata": {
    "collapsed": false,
    "scrolled": true
   },
   "outputs": [
    {
     "ename": "KeyboardInterrupt",
     "evalue": "",
     "output_type": "error",
     "traceback": [
      "\u001b[0;31m---------------------------------------------------------------------------\u001b[0m",
      "\u001b[0;31mKeyboardInterrupt\u001b[0m                         Traceback (most recent call last)",
      "\u001b[0;32m<ipython-input-15-3a6a3e2da049>\u001b[0m in \u001b[0;36m<module>\u001b[0;34m()\u001b[0m\n\u001b[0;32m----> 1\u001b[0;31m \u001b[0mgbdt\u001b[0m \u001b[0;34m=\u001b[0m \u001b[0mxgb\u001b[0m\u001b[0;34m.\u001b[0m\u001b[0mtrain\u001b[0m\u001b[0;34m(\u001b[0m\u001b[0mxgb_params\u001b[0m\u001b[0;34m,\u001b[0m \u001b[0mxgtrain\u001b[0m\u001b[0;34m,\u001b[0m \u001b[0mbest_nrounds\u001b[0m\u001b[0;34m)\u001b[0m\u001b[0;34m\u001b[0m\u001b[0m\n\u001b[0m",
      "\u001b[0;32m/home/achal/.local/lib/python3.5/site-packages/xgboost/training.py\u001b[0m in \u001b[0;36mtrain\u001b[0;34m(params, dtrain, num_boost_round, evals, obj, feval, maximize, early_stopping_rounds, evals_result, verbose_eval, learning_rates, xgb_model, callbacks)\u001b[0m\n\u001b[1;32m    203\u001b[0m                            \u001b[0mevals\u001b[0m\u001b[0;34m=\u001b[0m\u001b[0mevals\u001b[0m\u001b[0;34m,\u001b[0m\u001b[0;34m\u001b[0m\u001b[0m\n\u001b[1;32m    204\u001b[0m                            \u001b[0mobj\u001b[0m\u001b[0;34m=\u001b[0m\u001b[0mobj\u001b[0m\u001b[0;34m,\u001b[0m \u001b[0mfeval\u001b[0m\u001b[0;34m=\u001b[0m\u001b[0mfeval\u001b[0m\u001b[0;34m,\u001b[0m\u001b[0;34m\u001b[0m\u001b[0m\n\u001b[0;32m--> 205\u001b[0;31m                            xgb_model=xgb_model, callbacks=callbacks)\n\u001b[0m\u001b[1;32m    206\u001b[0m \u001b[0;34m\u001b[0m\u001b[0m\n\u001b[1;32m    207\u001b[0m \u001b[0;34m\u001b[0m\u001b[0m\n",
      "\u001b[0;32m/home/achal/.local/lib/python3.5/site-packages/xgboost/training.py\u001b[0m in \u001b[0;36m_train_internal\u001b[0;34m(params, dtrain, num_boost_round, evals, obj, feval, xgb_model, callbacks)\u001b[0m\n\u001b[1;32m     74\u001b[0m         \u001b[0;31m# Skip the first update if it is a recovery step.\u001b[0m\u001b[0;34m\u001b[0m\u001b[0;34m\u001b[0m\u001b[0m\n\u001b[1;32m     75\u001b[0m         \u001b[0;32mif\u001b[0m \u001b[0mversion\u001b[0m \u001b[0;34m%\u001b[0m \u001b[0;36m2\u001b[0m \u001b[0;34m==\u001b[0m \u001b[0;36m0\u001b[0m\u001b[0;34m:\u001b[0m\u001b[0;34m\u001b[0m\u001b[0m\n\u001b[0;32m---> 76\u001b[0;31m             \u001b[0mbst\u001b[0m\u001b[0;34m.\u001b[0m\u001b[0mupdate\u001b[0m\u001b[0;34m(\u001b[0m\u001b[0mdtrain\u001b[0m\u001b[0;34m,\u001b[0m \u001b[0mi\u001b[0m\u001b[0;34m,\u001b[0m \u001b[0mobj\u001b[0m\u001b[0;34m)\u001b[0m\u001b[0;34m\u001b[0m\u001b[0m\n\u001b[0m\u001b[1;32m     77\u001b[0m             \u001b[0mbst\u001b[0m\u001b[0;34m.\u001b[0m\u001b[0msave_rabit_checkpoint\u001b[0m\u001b[0;34m(\u001b[0m\u001b[0;34m)\u001b[0m\u001b[0;34m\u001b[0m\u001b[0m\n\u001b[1;32m     78\u001b[0m             \u001b[0mversion\u001b[0m \u001b[0;34m+=\u001b[0m \u001b[0;36m1\u001b[0m\u001b[0;34m\u001b[0m\u001b[0m\n",
      "\u001b[0;32m/home/achal/.local/lib/python3.5/site-packages/xgboost/core.py\u001b[0m in \u001b[0;36mupdate\u001b[0;34m(self, dtrain, iteration, fobj)\u001b[0m\n\u001b[1;32m    804\u001b[0m \u001b[0;34m\u001b[0m\u001b[0m\n\u001b[1;32m    805\u001b[0m         \u001b[0;32mif\u001b[0m \u001b[0mfobj\u001b[0m \u001b[0;32mis\u001b[0m \u001b[0;32mNone\u001b[0m\u001b[0;34m:\u001b[0m\u001b[0;34m\u001b[0m\u001b[0m\n\u001b[0;32m--> 806\u001b[0;31m             \u001b[0m_check_call\u001b[0m\u001b[0;34m(\u001b[0m\u001b[0m_LIB\u001b[0m\u001b[0;34m.\u001b[0m\u001b[0mXGBoosterUpdateOneIter\u001b[0m\u001b[0;34m(\u001b[0m\u001b[0mself\u001b[0m\u001b[0;34m.\u001b[0m\u001b[0mhandle\u001b[0m\u001b[0;34m,\u001b[0m \u001b[0miteration\u001b[0m\u001b[0;34m,\u001b[0m \u001b[0mdtrain\u001b[0m\u001b[0;34m.\u001b[0m\u001b[0mhandle\u001b[0m\u001b[0;34m)\u001b[0m\u001b[0;34m)\u001b[0m\u001b[0;34m\u001b[0m\u001b[0m\n\u001b[0m\u001b[1;32m    807\u001b[0m         \u001b[0;32melse\u001b[0m\u001b[0;34m:\u001b[0m\u001b[0;34m\u001b[0m\u001b[0m\n\u001b[1;32m    808\u001b[0m             \u001b[0mpred\u001b[0m \u001b[0;34m=\u001b[0m \u001b[0mself\u001b[0m\u001b[0;34m.\u001b[0m\u001b[0mpredict\u001b[0m\u001b[0;34m(\u001b[0m\u001b[0mdtrain\u001b[0m\u001b[0;34m)\u001b[0m\u001b[0;34m\u001b[0m\u001b[0m\n",
      "\u001b[0;31mKeyboardInterrupt\u001b[0m: "
     ]
    }
   ],
   "source": [
    "gbdt = xgb.train(xgb_params, xgtrain, best_nrounds)"
   ]
  },
  {
   "cell_type": "code",
   "execution_count": 18,
   "metadata": {
    "collapsed": false
   },
   "outputs": [
    {
     "data": {
      "text/plain": [
       "<function xgboost.plotting.plot_importance>"
      ]
     },
     "execution_count": 18,
     "metadata": {},
     "output_type": "execute_result"
    }
   ],
   "source": [
    "xgb.plot_importance()"
   ]
  },
  {
   "cell_type": "code",
   "execution_count": null,
   "metadata": {
    "collapsed": true
   },
   "outputs": [],
   "source": []
  }
 ],
 "metadata": {
  "anaconda-cloud": {},
  "kernelspec": {
   "display_name": "Python [default]",
   "language": "python",
   "name": "python3"
  },
  "language_info": {
   "codemirror_mode": {
    "name": "ipython",
    "version": 3
   },
   "file_extension": ".py",
   "mimetype": "text/x-python",
   "name": "python",
   "nbconvert_exporter": "python",
   "pygments_lexer": "ipython3",
   "version": "3.5.2"
  }
 },
 "nbformat": 4,
 "nbformat_minor": 1
}
