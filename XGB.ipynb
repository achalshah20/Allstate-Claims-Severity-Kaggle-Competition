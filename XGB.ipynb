{
 "cells": [
  {
   "cell_type": "markdown",
   "metadata": {},
   "source": [
    "Xgboost"
   ]
  },
  {
   "cell_type": "code",
   "execution_count": 1,
   "metadata": {
    "collapsed": true
   },
   "outputs": [],
   "source": [
    "import pandas as pd\n",
    "import numpy as np\n",
    "import os"
   ]
  },
  {
   "cell_type": "code",
   "execution_count": 2,
   "metadata": {
    "collapsed": false
   },
   "outputs": [],
   "source": [
    "train_data = pd.read_csv(\"featuresets/3/train_data_one_hot.csv\",index_col=0)\n",
    "test_data = pd.read_csv(\"featuresets/3/test_data_one_hot.csv\",index_col=0)\n",
    "submissions = pd.read_csv(\"data/sample_submission.csv\")"
   ]
  },
  {
   "cell_type": "code",
   "execution_count": 3,
   "metadata": {
    "collapsed": false
   },
   "outputs": [
    {
     "data": {
      "text/html": [
       "<div>\n",
       "<table border=\"1\" class=\"dataframe\">\n",
       "  <thead>\n",
       "    <tr style=\"text-align: right;\">\n",
       "      <th></th>\n",
       "      <th>cat89</th>\n",
       "      <th>cat90</th>\n",
       "      <th>cat91</th>\n",
       "      <th>cat92</th>\n",
       "      <th>cat93</th>\n",
       "      <th>cat94</th>\n",
       "      <th>cat95</th>\n",
       "      <th>cat96</th>\n",
       "      <th>cat97</th>\n",
       "      <th>cat98</th>\n",
       "      <th>...</th>\n",
       "      <th>cat86 = C</th>\n",
       "      <th>cat86 = D</th>\n",
       "      <th>cat87 = A</th>\n",
       "      <th>cat87 = B</th>\n",
       "      <th>cat87 = C</th>\n",
       "      <th>cat87 = D</th>\n",
       "      <th>cat88 = A</th>\n",
       "      <th>cat88 = B</th>\n",
       "      <th>cat88 = D</th>\n",
       "      <th>cat88 = E</th>\n",
       "    </tr>\n",
       "  </thead>\n",
       "  <tbody>\n",
       "    <tr>\n",
       "      <th>0</th>\n",
       "      <td>0</td>\n",
       "      <td>0</td>\n",
       "      <td>0</td>\n",
       "      <td>0</td>\n",
       "      <td>3</td>\n",
       "      <td>1</td>\n",
       "      <td>2</td>\n",
       "      <td>4</td>\n",
       "      <td>0</td>\n",
       "      <td>2</td>\n",
       "      <td>...</td>\n",
       "      <td>0</td>\n",
       "      <td>1</td>\n",
       "      <td>0</td>\n",
       "      <td>1</td>\n",
       "      <td>0</td>\n",
       "      <td>0</td>\n",
       "      <td>1</td>\n",
       "      <td>0</td>\n",
       "      <td>0</td>\n",
       "      <td>0</td>\n",
       "    </tr>\n",
       "    <tr>\n",
       "      <th>1</th>\n",
       "      <td>0</td>\n",
       "      <td>0</td>\n",
       "      <td>0</td>\n",
       "      <td>0</td>\n",
       "      <td>3</td>\n",
       "      <td>3</td>\n",
       "      <td>2</td>\n",
       "      <td>4</td>\n",
       "      <td>4</td>\n",
       "      <td>3</td>\n",
       "      <td>...</td>\n",
       "      <td>0</td>\n",
       "      <td>1</td>\n",
       "      <td>0</td>\n",
       "      <td>1</td>\n",
       "      <td>0</td>\n",
       "      <td>0</td>\n",
       "      <td>1</td>\n",
       "      <td>0</td>\n",
       "      <td>0</td>\n",
       "      <td>0</td>\n",
       "    </tr>\n",
       "    <tr>\n",
       "      <th>2</th>\n",
       "      <td>0</td>\n",
       "      <td>0</td>\n",
       "      <td>0</td>\n",
       "      <td>0</td>\n",
       "      <td>3</td>\n",
       "      <td>3</td>\n",
       "      <td>2</td>\n",
       "      <td>4</td>\n",
       "      <td>4</td>\n",
       "      <td>0</td>\n",
       "      <td>...</td>\n",
       "      <td>0</td>\n",
       "      <td>0</td>\n",
       "      <td>0</td>\n",
       "      <td>1</td>\n",
       "      <td>0</td>\n",
       "      <td>0</td>\n",
       "      <td>1</td>\n",
       "      <td>0</td>\n",
       "      <td>0</td>\n",
       "      <td>0</td>\n",
       "    </tr>\n",
       "    <tr>\n",
       "      <th>3</th>\n",
       "      <td>0</td>\n",
       "      <td>0</td>\n",
       "      <td>0</td>\n",
       "      <td>0</td>\n",
       "      <td>3</td>\n",
       "      <td>3</td>\n",
       "      <td>2</td>\n",
       "      <td>4</td>\n",
       "      <td>4</td>\n",
       "      <td>3</td>\n",
       "      <td>...</td>\n",
       "      <td>0</td>\n",
       "      <td>1</td>\n",
       "      <td>0</td>\n",
       "      <td>1</td>\n",
       "      <td>0</td>\n",
       "      <td>0</td>\n",
       "      <td>1</td>\n",
       "      <td>0</td>\n",
       "      <td>0</td>\n",
       "      <td>0</td>\n",
       "    </tr>\n",
       "    <tr>\n",
       "      <th>4</th>\n",
       "      <td>0</td>\n",
       "      <td>0</td>\n",
       "      <td>1</td>\n",
       "      <td>5</td>\n",
       "      <td>3</td>\n",
       "      <td>1</td>\n",
       "      <td>3</td>\n",
       "      <td>4</td>\n",
       "      <td>4</td>\n",
       "      <td>0</td>\n",
       "      <td>...</td>\n",
       "      <td>0</td>\n",
       "      <td>0</td>\n",
       "      <td>0</td>\n",
       "      <td>0</td>\n",
       "      <td>1</td>\n",
       "      <td>0</td>\n",
       "      <td>1</td>\n",
       "      <td>0</td>\n",
       "      <td>0</td>\n",
       "      <td>0</td>\n",
       "    </tr>\n",
       "  </tbody>\n",
       "</table>\n",
       "<p>5 rows × 247 columns</p>\n",
       "</div>"
      ],
      "text/plain": [
       "   cat89  cat90  cat91  cat92  cat93  cat94  cat95  cat96  cat97  cat98  \\\n",
       "0      0      0      0      0      3      1      2      4      0      2   \n",
       "1      0      0      0      0      3      3      2      4      4      3   \n",
       "2      0      0      0      0      3      3      2      4      4      0   \n",
       "3      0      0      0      0      3      3      2      4      4      3   \n",
       "4      0      0      1      5      3      1      3      4      4      0   \n",
       "\n",
       "     ...      cat86 = C  cat86 = D  cat87 = A  cat87 = B  cat87 = C  \\\n",
       "0    ...              0          1          0          1          0   \n",
       "1    ...              0          1          0          1          0   \n",
       "2    ...              0          0          0          1          0   \n",
       "3    ...              0          1          0          1          0   \n",
       "4    ...              0          0          0          0          1   \n",
       "\n",
       "   cat87 = D  cat88 = A  cat88 = B  cat88 = D  cat88 = E  \n",
       "0          0          1          0          0          0  \n",
       "1          0          1          0          0          0  \n",
       "2          0          1          0          0          0  \n",
       "3          0          1          0          0          0  \n",
       "4          0          1          0          0          0  \n",
       "\n",
       "[5 rows x 247 columns]"
      ]
     },
     "execution_count": 3,
     "metadata": {},
     "output_type": "execute_result"
    }
   ],
   "source": [
    "train_data.head()"
   ]
  },
  {
   "cell_type": "code",
   "execution_count": 4,
   "metadata": {
    "collapsed": true
   },
   "outputs": [],
   "source": [
    "x_train = train_data.drop(\"loss\",axis=1)\n",
    "y = np.log(train_data[\"loss\"])\n",
    "x_test = test_data"
   ]
  },
  {
   "cell_type": "code",
   "execution_count": 5,
   "metadata": {
    "collapsed": true
   },
   "outputs": [],
   "source": [
    "def write_submission_file(predictions,name):\n",
    "    if not os.path.exists(\"results\"):\n",
    "        os.makedirs(\"results\")\n",
    "    submissions.iloc[:,1] = predictions\n",
    "    submissions.to_csv('results/' + name + '.csv', index=None)"
   ]
  },
  {
   "cell_type": "code",
   "execution_count": 6,
   "metadata": {
    "collapsed": false
   },
   "outputs": [
    {
     "name": "stderr",
     "output_type": "stream",
     "text": [
      "/home/achal/.local/lib/python3.5/site-packages/sklearn/cross_validation.py:44: DeprecationWarning: This module was deprecated in version 0.18 in favor of the model_selection module into which all the refactored classes and functions are moved. Also note that the interface of the new CV iterators are different from that of this module. This module will be removed in 0.20.\n",
      "  \"This module will be removed in 0.20.\", DeprecationWarning)\n"
     ]
    }
   ],
   "source": [
    "import xgboost as xgb\n",
    "from sklearn.metrics import mean_squared_error,mean_absolute_error"
   ]
  },
  {
   "cell_type": "code",
   "execution_count": 7,
   "metadata": {
    "collapsed": false
   },
   "outputs": [],
   "source": [
    "dtrain = xgb.DMatrix(x_train, label=y)\n",
    "dtest = xgb.DMatrix(x_test)"
   ]
  },
  {
   "cell_type": "code",
   "execution_count": 8,
   "metadata": {
    "collapsed": false
   },
   "outputs": [],
   "source": [
    "xgb_params = {\n",
    "    'seed': 0,\n",
    "    'colsample_bytree': 0.7,\n",
    "    'silent': 1,\n",
    "    'subsample': 0.7,\n",
    "    'learning_rate': 0.070,\n",
    "    'objective': 'reg:linear',\n",
    "    'max_depth': 6,\n",
    "    'num_parallel_tree': 1,\n",
    "    'min_child_weight': 1,\n",
    "    'eval_metric': 'mae',\n",
    "}"
   ]
  },
  {
   "cell_type": "code",
   "execution_count": 9,
   "metadata": {
    "collapsed": true
   },
   "outputs": [],
   "source": [
    "def xg_eval_mse(yhat, dtrain):\n",
    "    y = dtrain.get_label()\n",
    "    return('mae', mean_absolute_error(np.exp(y), np.exp(yhat)))"
   ]
  },
  {
   "cell_type": "code",
   "execution_count": 10,
   "metadata": {
    "collapsed": false,
    "scrolled": true
   },
   "outputs": [
    {
     "name": "stdout",
     "output_type": "stream",
     "text": [
      "[0]\ttrain-mae:3034.64+4.97266\ttest-mae:3034.64+14.9178\n",
      "[10]\ttrain-mae:2948.3+4.93866\ttest-mae:2948.31+14.8059\n",
      "[20]\ttrain-mae:2545.35+4.54527\ttest-mae:2545.65+14.1612\n",
      "[30]\ttrain-mae:1938.82+3.27138\ttest-mae:1940.97+12.8308\n",
      "[40]\ttrain-mae:1507.94+2.61441\ttest-mae:1514.54+10.4707\n",
      "[50]\ttrain-mae:1306.63+1.89889\ttest-mae:1317.97+8.70301\n",
      "[60]\ttrain-mae:1223.43+2.18555\ttest-mae:1238.6+7.13049\n",
      "[70]\ttrain-mae:1186.34+2.27379\ttest-mae:1204.84+6.72341\n",
      "[80]\ttrain-mae:1166.77+2.2542\ttest-mae:1188.17+6.49831\n",
      "[90]\ttrain-mae:1154.72+2.24705\ttest-mae:1178.75+6.55914\n",
      "[100]\ttrain-mae:1146.22+2.67807\ttest-mae:1172.62+6.3424\n",
      "[110]\ttrain-mae:1139.76+2.66441\ttest-mae:1168.23+6.4902\n",
      "[120]\ttrain-mae:1134.36+2.72227\ttest-mae:1165.22+6.37027\n",
      "[130]\ttrain-mae:1129.57+2.84836\ttest-mae:1162.59+6.30863\n",
      "[140]\ttrain-mae:1125.4+2.58543\ttest-mae:1160.46+6.53319\n",
      "[150]\ttrain-mae:1121.66+2.4977\ttest-mae:1158.78+6.50598\n",
      "[160]\ttrain-mae:1117.98+2.4499\ttest-mae:1157.27+6.47945\n",
      "[170]\ttrain-mae:1114.63+2.3864\ttest-mae:1155.85+6.59688\n",
      "[180]\ttrain-mae:1111.75+2.18502\ttest-mae:1154.85+6.84762\n",
      "[190]\ttrain-mae:1109.13+2.2683\ttest-mae:1154.08+6.85791\n",
      "[200]\ttrain-mae:1106.52+2.20578\ttest-mae:1153.44+6.99024\n",
      "[210]\ttrain-mae:1104.12+2.11877\ttest-mae:1152.85+7.05649\n",
      "[220]\ttrain-mae:1101.62+2.3322\ttest-mae:1152.03+7.07347\n",
      "[230]\ttrain-mae:1099.24+2.52743\ttest-mae:1151.43+6.99062\n",
      "[240]\ttrain-mae:1097.23+2.4872\ttest-mae:1151.1+7.07745\n",
      "[250]\ttrain-mae:1095.16+2.50928\ttest-mae:1150.63+7.03934\n",
      "[260]\ttrain-mae:1093.14+2.596\ttest-mae:1150.13+6.95787\n",
      "[270]\ttrain-mae:1091.1+2.6366\ttest-mae:1149.84+7.02478\n",
      "[280]\ttrain-mae:1088.94+2.78757\ttest-mae:1149.42+7.07769\n",
      "[290]\ttrain-mae:1086.82+2.9277\ttest-mae:1149.07+7.05689\n",
      "[300]\ttrain-mae:1084.77+2.91501\ttest-mae:1148.77+6.93055\n",
      "[310]\ttrain-mae:1083.03+2.85196\ttest-mae:1148.47+7.0442\n",
      "[320]\ttrain-mae:1081.11+2.95876\ttest-mae:1148.21+7.0527\n",
      "[330]\ttrain-mae:1079.32+3.05354\ttest-mae:1147.97+6.99813\n",
      "[340]\ttrain-mae:1077.61+2.98482\ttest-mae:1147.73+7.02512\n",
      "[350]\ttrain-mae:1075.89+2.94038\ttest-mae:1147.52+6.8964\n",
      "[360]\ttrain-mae:1074.14+2.97127\ttest-mae:1147.4+6.754\n",
      "[370]\ttrain-mae:1072.42+2.99842\ttest-mae:1147.29+6.77178\n",
      "[380]\ttrain-mae:1070.73+2.88842\ttest-mae:1147.22+6.82491\n",
      "[390]\ttrain-mae:1069.04+2.90126\ttest-mae:1147.12+6.64631\n",
      "[400]\ttrain-mae:1067.36+2.84315\ttest-mae:1146.97+6.64673\n",
      "[410]\ttrain-mae:1065.74+2.84913\ttest-mae:1146.84+6.68481\n",
      "[420]\ttrain-mae:1064.1+2.81801\ttest-mae:1146.76+6.57258\n",
      "[430]\ttrain-mae:1062.3+2.90359\ttest-mae:1146.66+6.46354\n",
      "[440]\ttrain-mae:1060.66+2.92628\ttest-mae:1146.52+6.5012\n",
      "[450]\ttrain-mae:1059.09+2.96981\ttest-mae:1146.48+6.57254\n",
      "[460]\ttrain-mae:1057.4+2.93647\ttest-mae:1146.32+6.63906\n",
      "[470]\ttrain-mae:1055.91+3.10539\ttest-mae:1146.34+6.54061\n"
     ]
    }
   ],
   "source": [
    "res = xgb.cv(xgb_params, dtrain, num_boost_round=850, nfold=4, seed=20, stratified=False,early_stopping_rounds=15, verbose_eval=10, show_stdv=True, feval=xg_eval_mse, maximize=False)"
   ]
  },
  {
   "cell_type": "code",
   "execution_count": 11,
   "metadata": {
    "collapsed": false
   },
   "outputs": [
    {
     "name": "stdout",
     "output_type": "stream",
     "text": [
      "CV-Mean: 1146.3098755+6.517141641891779\n"
     ]
    }
   ],
   "source": [
    "best_nrounds = res.shape[0] - 1\n",
    "cv_mean = res.iloc[-1, 0]\n",
    "cv_std = res.iloc[-1, 1]\n",
    "print('CV-Mean: {0}+{1}'.format(cv_mean, cv_std))"
   ]
  },
  {
   "cell_type": "code",
   "execution_count": 12,
   "metadata": {
    "collapsed": true
   },
   "outputs": [],
   "source": [
    "gbdt = xgb.train(xgb_params, dtrain, best_nrounds)"
   ]
  },
  {
   "cell_type": "code",
   "execution_count": 13,
   "metadata": {
    "collapsed": false
   },
   "outputs": [],
   "source": [
    "write_submission_file(np.exp(gbdt.predict(dtest)),\"xgb_tuned\")"
   ]
  },
  {
   "cell_type": "code",
   "execution_count": null,
   "metadata": {
    "collapsed": true
   },
   "outputs": [],
   "source": []
  }
 ],
 "metadata": {
  "anaconda-cloud": {},
  "kernelspec": {
   "display_name": "Python [conda root]",
   "language": "python",
   "name": "conda-root-py"
  },
  "language_info": {
   "codemirror_mode": {
    "name": "ipython",
    "version": 3
   },
   "file_extension": ".py",
   "mimetype": "text/x-python",
   "name": "python",
   "nbconvert_exporter": "python",
   "pygments_lexer": "ipython3",
   "version": "3.5.2"
  }
 },
 "nbformat": 4,
 "nbformat_minor": 0
}
