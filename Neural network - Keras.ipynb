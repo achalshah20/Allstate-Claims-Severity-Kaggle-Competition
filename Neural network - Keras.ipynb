{
 "cells": [
  {
   "cell_type": "markdown",
   "metadata": {},
   "source": [
    "Neural network using Keras"
   ]
  },
  {
   "cell_type": "code",
   "execution_count": 32,
   "metadata": {
    "collapsed": true
   },
   "outputs": [],
   "source": [
    "import pandas as pd\n",
    "import numpy as np\n",
    "np.random.seed(20)"
   ]
  },
  {
   "cell_type": "code",
   "execution_count": 33,
   "metadata": {
    "collapsed": false
   },
   "outputs": [],
   "source": [
    "train_data = pd.read_csv(\"featuresets/3/train_data_one_hot.csv\",index_col=0)\n",
    "test_data = pd.read_csv(\"featuresets/3/test_data_one_hot.csv\",index_col=0)\n",
    "submissions = pd.read_csv(\"data/sample_submission.csv\")"
   ]
  },
  {
   "cell_type": "code",
   "execution_count": 71,
   "metadata": {
    "collapsed": true
   },
   "outputs": [],
   "source": [
    "x_train = train_data.drop(\"loss\",axis=1).as_matrix()\n",
    "y = np.log(train_data[\"loss\"]).as_matrix()\n",
    "x_test = test_data.as_matrix()"
   ]
  },
  {
   "cell_type": "code",
   "execution_count": 72,
   "metadata": {
    "collapsed": false
   },
   "outputs": [],
   "source": [
    "from sklearn.cross_validation import KFold\n",
    "nfolds = 5\n",
    "folds = KFold(len(y), n_folds = nfolds, shuffle = True, random_state = 20)"
   ]
  },
  {
   "cell_type": "code",
   "execution_count": 83,
   "metadata": {
    "collapsed": true
   },
   "outputs": [],
   "source": [
    "import os\n",
    "def write_submission_file(predictions,name):\n",
    "    if not os.path.exists(\"results\"):\n",
    "        os.makedirs(\"results\")\n",
    "    submissions.iloc[:,1] = predictions\n",
    "    submissions.to_csv('results/' + name + '.csv', index=None)"
   ]
  },
  {
   "cell_type": "markdown",
   "metadata": {},
   "source": [
    "### Define neural network"
   ]
  },
  {
   "cell_type": "code",
   "execution_count": 73,
   "metadata": {
    "collapsed": false
   },
   "outputs": [],
   "source": [
    "from keras.models import Sequential\n",
    "from keras.layers import Dense, Dropout, Activation\n",
    "from keras.layers.advanced_activations import PReLU\n",
    "\n",
    "def nn_model(x_train_):\n",
    "    model = Sequential()\n",
    "    model.add(Dense(400, input_dim = x_train_.shape[1], init = 'he_normal'))\n",
    "    model.add(PReLU())\n",
    "    model.add(Dropout(0.4))\n",
    "    model.add(Dense(200, init = 'he_normal'))\n",
    "    model.add(PReLU())\n",
    "    model.add(Dropout(0.2))\n",
    "    model.add(Dense(1, init = 'he_normal'))\n",
    "    model.compile(loss = 'mae', optimizer = 'adadelta')\n",
    "    return(model)\n"
   ]
  },
  {
   "cell_type": "code",
   "execution_count": 79,
   "metadata": {
    "collapsed": false,
    "scrolled": true
   },
   "outputs": [
    {
     "name": "stdout",
     "output_type": "stream",
     "text": [
      "Epoch 1/50\n",
      "188318/188318 [==============================] - 10s - loss: 0.5566    \n",
      "Epoch 2/50\n",
      "188318/188318 [==============================] - 10s - loss: 0.5571    \n",
      "Epoch 3/50\n",
      "188318/188318 [==============================] - 10s - loss: 0.5514    \n",
      "Epoch 4/50\n",
      "188318/188318 [==============================] - 10s - loss: 0.5427    \n",
      "Epoch 5/50\n",
      "188318/188318 [==============================] - 11s - loss: 0.5464    \n",
      "Epoch 6/50\n",
      "188318/188318 [==============================] - 11s - loss: 0.5400    \n",
      "Epoch 7/50\n",
      "188318/188318 [==============================] - 10s - loss: 0.5363    \n",
      "Epoch 8/50\n",
      "188318/188318 [==============================] - 9s - loss: 0.5353     \n",
      "Epoch 9/50\n",
      "188318/188318 [==============================] - 10s - loss: 0.5295    \n",
      "Epoch 10/50\n",
      "188318/188318 [==============================] - 10s - loss: 0.5269    \n",
      "Epoch 11/50\n",
      "188318/188318 [==============================] - 10s - loss: 0.5289    \n",
      "Epoch 12/50\n",
      "188318/188318 [==============================] - 10s - loss: 0.5224    \n",
      "Epoch 13/50\n",
      "188318/188318 [==============================] - 10s - loss: 0.5217    \n",
      "Epoch 14/50\n",
      "188318/188318 [==============================] - 11s - loss: 0.5220    \n",
      "Epoch 15/50\n",
      "188318/188318 [==============================] - 11s - loss: 0.5187    \n",
      "Epoch 16/50\n",
      "188318/188318 [==============================] - 12s - loss: 0.5203    \n",
      "Epoch 17/50\n",
      "188318/188318 [==============================] - 11s - loss: 0.5163    \n",
      "Epoch 18/50\n",
      "188318/188318 [==============================] - 10s - loss: 0.5126    \n",
      "Epoch 19/50\n",
      "188318/188318 [==============================] - 10s - loss: 0.5149    \n",
      "Epoch 20/50\n",
      "188318/188318 [==============================] - 10s - loss: 0.5124    \n",
      "Epoch 21/50\n",
      "188318/188318 [==============================] - 10s - loss: 0.5078    \n",
      "Epoch 22/50\n",
      "188318/188318 [==============================] - 10s - loss: 0.5063    \n",
      "Epoch 23/50\n",
      "188318/188318 [==============================] - 10s - loss: 0.5056    \n",
      "Epoch 24/50\n",
      "188318/188318 [==============================] - 11s - loss: 0.5064    \n",
      "Epoch 25/50\n",
      "188318/188318 [==============================] - 11s - loss: 0.5036    \n",
      "Epoch 26/50\n",
      "188318/188318 [==============================] - 11s - loss: 0.5012    \n",
      "Epoch 27/50\n",
      "188318/188318 [==============================] - 11s - loss: 0.5007    \n",
      "Epoch 28/50\n",
      "188318/188318 [==============================] - 12s - loss: 0.5013    \n",
      "Epoch 29/50\n",
      "188318/188318 [==============================] - 12s - loss: 0.5017    \n",
      "Epoch 30/50\n",
      "188318/188318 [==============================] - 11s - loss: 0.4985    \n",
      "Epoch 31/50\n",
      "188318/188318 [==============================] - 11s - loss: 0.5006    \n",
      "Epoch 32/50\n",
      "188318/188318 [==============================] - 11s - loss: 0.4984    \n",
      "Epoch 33/50\n",
      "188318/188318 [==============================] - 11s - loss: 0.4950    \n",
      "Epoch 34/50\n",
      "188318/188318 [==============================] - 11s - loss: 0.4953    \n",
      "Epoch 35/50\n",
      "188318/188318 [==============================] - 10s - loss: 0.4964    \n",
      "Epoch 36/50\n",
      "188318/188318 [==============================] - 10s - loss: 0.4947    \n",
      "Epoch 37/50\n",
      "188318/188318 [==============================] - 10s - loss: 0.4943    \n",
      "Epoch 38/50\n",
      "188318/188318 [==============================] - 10s - loss: 0.4921    \n",
      "Epoch 39/50\n",
      "188318/188318 [==============================] - 10s - loss: 0.4943    \n",
      "Epoch 40/50\n",
      "188318/188318 [==============================] - 10s - loss: 0.4923    \n",
      "Epoch 41/50\n",
      "188318/188318 [==============================] - 11s - loss: 0.4888    \n",
      "Epoch 42/50\n",
      "188318/188318 [==============================] - 11s - loss: 0.4902    \n",
      "Epoch 43/50\n",
      "188318/188318 [==============================] - 11s - loss: 0.4887    \n",
      "Epoch 44/50\n",
      "188318/188318 [==============================] - 11s - loss: 0.4898    \n",
      "Epoch 45/50\n",
      "188318/188318 [==============================] - 11s - loss: 0.4888    \n",
      "Epoch 46/50\n",
      "188318/188318 [==============================] - 11s - loss: 0.4878    \n",
      "Epoch 47/50\n",
      "188318/188318 [==============================] - 11s - loss: 0.4870    \n",
      "Epoch 48/50\n",
      "188318/188318 [==============================] - 11s - loss: 0.4863    \n",
      "Epoch 49/50\n",
      "188318/188318 [==============================] - 11s - loss: 0.4841    \n",
      "Epoch 50/50\n",
      "188318/188318 [==============================] - 12s - loss: 0.4844    \n",
      "125472/125546 [============================>.] - ETA: 0s"
     ]
    }
   ],
   "source": [
    "n_epochs = 50\n",
    "fit = model.fit(x_train,y, nb_epoch = n_epochs,batch_size=250,verbose = 1)\n",
    "pred = model.predict(x_test,verbose=1)"
   ]
  },
  {
   "cell_type": "code",
   "execution_count": 87,
   "metadata": {
    "collapsed": false
   },
   "outputs": [],
   "source": [
    "write_submission_file(np.exp(pred),\"keras_nn\")"
   ]
  },
  {
   "cell_type": "code",
   "execution_count": null,
   "metadata": {
    "collapsed": true
   },
   "outputs": [],
   "source": [
    "# Bag NN results\n",
    "for (train_samples,tune_samples) in folds:\n",
    "    x_train_f = x_train[train_samples]\n",
    "    y_train_f = y[train_samples]\n",
    "    x_tune_f = x_train[tune_samples]\n",
    "    y_tune_f = y[tune_samples]\n",
    "    pred = np.zeros(x_tune_f.shape[0])\n",
    "    \n",
    "    model = nn_model(x_train_f)\n",
    "    \n",
    "    fit = model.fit(x_train_f,y_train_f, nb_epoch = n_epochs,batch_size=10,verbose = 1)\n",
    "    \n",
    "    pred = model.predict(x_tune_f,verbose=1)\n",
    "        \n",
    "    pred_oob[tune_samples] = pred\n",
    "    score = mean_absolute_error(y_tune_f, pred)\n",
    "    i += 1\n",
    "    print('Fold ', i, '- MAE:', score)\n"
   ]
  }
 ],
 "metadata": {
  "anaconda-cloud": {},
  "kernelspec": {
   "display_name": "Python [conda root]",
   "language": "python",
   "name": "conda-root-py"
  },
  "language_info": {
   "codemirror_mode": {
    "name": "ipython",
    "version": 3
   },
   "file_extension": ".py",
   "mimetype": "text/x-python",
   "name": "python",
   "nbconvert_exporter": "python",
   "pygments_lexer": "ipython3",
   "version": "3.5.2"
  }
 },
 "nbformat": 4,
 "nbformat_minor": 1
}
